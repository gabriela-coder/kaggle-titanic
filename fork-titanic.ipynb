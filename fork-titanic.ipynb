{
 "cells": [
  {
   "cell_type": "code",
   "execution_count": 1,
   "id": "76d7e997",
   "metadata": {
    "execution": {
     "iopub.execute_input": "2024-01-08T23:52:53.763824Z",
     "iopub.status.busy": "2024-01-08T23:52:53.762897Z",
     "iopub.status.idle": "2024-01-08T23:52:55.641491Z",
     "shell.execute_reply": "2024-01-08T23:52:55.640306Z"
    },
    "papermill": {
     "duration": 1.890911,
     "end_time": "2024-01-08T23:52:55.644427",
     "exception": false,
     "start_time": "2024-01-08T23:52:53.753516",
     "status": "completed"
    },
    "tags": []
   },
   "outputs": [],
   "source": [
    "import numpy as np \n",
    "import pandas as pd \n",
    "data = pd.read_csv('/kaggle/input/titanic/train.csv')\n",
    "test = pd.read_csv('/kaggle/input/titanic/test.csv')\n",
    "\n",
    "\n",
    "from sklearn.model_selection import train_test_split\n",
    "from sklearn.compose import ColumnTransformer\n",
    "from sklearn.impute import SimpleImputer\n",
    "from sklearn.ensemble import RandomForestClassifier\n",
    "from sklearn.preprocessing import OneHotEncoder\n",
    "from sklearn.metrics import accuracy_score\n",
    "from sklearn.pipeline import Pipeline\n"
   ]
  },
  {
   "cell_type": "markdown",
   "id": "cf120ee4",
   "metadata": {
    "papermill": {
     "duration": 0.006674,
     "end_time": "2024-01-08T23:52:55.658217",
     "exception": false,
     "start_time": "2024-01-08T23:52:55.651543",
     "status": "completed"
    },
    "tags": []
   },
   "source": [
    "Understanding the data"
   ]
  },
  {
   "cell_type": "code",
   "execution_count": 2,
   "id": "cc42089d",
   "metadata": {
    "execution": {
     "iopub.execute_input": "2024-01-08T23:52:55.673618Z",
     "iopub.status.busy": "2024-01-08T23:52:55.673160Z",
     "iopub.status.idle": "2024-01-08T23:52:55.701806Z",
     "shell.execute_reply": "2024-01-08T23:52:55.700650Z"
    },
    "papermill": {
     "duration": 0.038976,
     "end_time": "2024-01-08T23:52:55.704074",
     "exception": false,
     "start_time": "2024-01-08T23:52:55.665098",
     "status": "completed"
    },
    "tags": []
   },
   "outputs": [
    {
     "name": "stdout",
     "output_type": "stream",
     "text": [
      "(891, 12) ; (418, 11) \n",
      "\n"
     ]
    },
    {
     "data": {
      "text/html": [
       "<div>\n",
       "<style scoped>\n",
       "    .dataframe tbody tr th:only-of-type {\n",
       "        vertical-align: middle;\n",
       "    }\n",
       "\n",
       "    .dataframe tbody tr th {\n",
       "        vertical-align: top;\n",
       "    }\n",
       "\n",
       "    .dataframe thead th {\n",
       "        text-align: right;\n",
       "    }\n",
       "</style>\n",
       "<table border=\"1\" class=\"dataframe\">\n",
       "  <thead>\n",
       "    <tr style=\"text-align: right;\">\n",
       "      <th></th>\n",
       "      <th>PassengerId</th>\n",
       "      <th>Survived</th>\n",
       "      <th>Pclass</th>\n",
       "      <th>Name</th>\n",
       "      <th>Sex</th>\n",
       "      <th>Age</th>\n",
       "      <th>SibSp</th>\n",
       "      <th>Parch</th>\n",
       "      <th>Ticket</th>\n",
       "      <th>Fare</th>\n",
       "      <th>Cabin</th>\n",
       "      <th>Embarked</th>\n",
       "    </tr>\n",
       "  </thead>\n",
       "  <tbody>\n",
       "    <tr>\n",
       "      <th>0</th>\n",
       "      <td>1</td>\n",
       "      <td>0</td>\n",
       "      <td>3</td>\n",
       "      <td>Braund, Mr. Owen Harris</td>\n",
       "      <td>male</td>\n",
       "      <td>22.0</td>\n",
       "      <td>1</td>\n",
       "      <td>0</td>\n",
       "      <td>A/5 21171</td>\n",
       "      <td>7.2500</td>\n",
       "      <td>NaN</td>\n",
       "      <td>S</td>\n",
       "    </tr>\n",
       "    <tr>\n",
       "      <th>1</th>\n",
       "      <td>2</td>\n",
       "      <td>1</td>\n",
       "      <td>1</td>\n",
       "      <td>Cumings, Mrs. John Bradley (Florence Briggs Th...</td>\n",
       "      <td>female</td>\n",
       "      <td>38.0</td>\n",
       "      <td>1</td>\n",
       "      <td>0</td>\n",
       "      <td>PC 17599</td>\n",
       "      <td>71.2833</td>\n",
       "      <td>C85</td>\n",
       "      <td>C</td>\n",
       "    </tr>\n",
       "    <tr>\n",
       "      <th>2</th>\n",
       "      <td>3</td>\n",
       "      <td>1</td>\n",
       "      <td>3</td>\n",
       "      <td>Heikkinen, Miss. Laina</td>\n",
       "      <td>female</td>\n",
       "      <td>26.0</td>\n",
       "      <td>0</td>\n",
       "      <td>0</td>\n",
       "      <td>STON/O2. 3101282</td>\n",
       "      <td>7.9250</td>\n",
       "      <td>NaN</td>\n",
       "      <td>S</td>\n",
       "    </tr>\n",
       "    <tr>\n",
       "      <th>3</th>\n",
       "      <td>4</td>\n",
       "      <td>1</td>\n",
       "      <td>1</td>\n",
       "      <td>Futrelle, Mrs. Jacques Heath (Lily May Peel)</td>\n",
       "      <td>female</td>\n",
       "      <td>35.0</td>\n",
       "      <td>1</td>\n",
       "      <td>0</td>\n",
       "      <td>113803</td>\n",
       "      <td>53.1000</td>\n",
       "      <td>C123</td>\n",
       "      <td>S</td>\n",
       "    </tr>\n",
       "    <tr>\n",
       "      <th>4</th>\n",
       "      <td>5</td>\n",
       "      <td>0</td>\n",
       "      <td>3</td>\n",
       "      <td>Allen, Mr. William Henry</td>\n",
       "      <td>male</td>\n",
       "      <td>35.0</td>\n",
       "      <td>0</td>\n",
       "      <td>0</td>\n",
       "      <td>373450</td>\n",
       "      <td>8.0500</td>\n",
       "      <td>NaN</td>\n",
       "      <td>S</td>\n",
       "    </tr>\n",
       "  </tbody>\n",
       "</table>\n",
       "</div>"
      ],
      "text/plain": [
       "   PassengerId  Survived  Pclass  \\\n",
       "0            1         0       3   \n",
       "1            2         1       1   \n",
       "2            3         1       3   \n",
       "3            4         1       1   \n",
       "4            5         0       3   \n",
       "\n",
       "                                                Name     Sex   Age  SibSp  \\\n",
       "0                            Braund, Mr. Owen Harris    male  22.0      1   \n",
       "1  Cumings, Mrs. John Bradley (Florence Briggs Th...  female  38.0      1   \n",
       "2                             Heikkinen, Miss. Laina  female  26.0      0   \n",
       "3       Futrelle, Mrs. Jacques Heath (Lily May Peel)  female  35.0      1   \n",
       "4                           Allen, Mr. William Henry    male  35.0      0   \n",
       "\n",
       "   Parch            Ticket     Fare Cabin Embarked  \n",
       "0      0         A/5 21171   7.2500   NaN        S  \n",
       "1      0          PC 17599  71.2833   C85        C  \n",
       "2      0  STON/O2. 3101282   7.9250   NaN        S  \n",
       "3      0            113803  53.1000  C123        S  \n",
       "4      0            373450   8.0500   NaN        S  "
      ]
     },
     "execution_count": 2,
     "metadata": {},
     "output_type": "execute_result"
    }
   ],
   "source": [
    "print(data.shape, \";\" ,test.shape, '\\n')\n",
    "data.head()"
   ]
  },
  {
   "cell_type": "code",
   "execution_count": 3,
   "id": "96c5f206",
   "metadata": {
    "execution": {
     "iopub.execute_input": "2024-01-08T23:52:55.720819Z",
     "iopub.status.busy": "2024-01-08T23:52:55.720409Z",
     "iopub.status.idle": "2024-01-08T23:52:55.733547Z",
     "shell.execute_reply": "2024-01-08T23:52:55.732131Z"
    },
    "papermill": {
     "duration": 0.024538,
     "end_time": "2024-01-08T23:52:55.735900",
     "exception": false,
     "start_time": "2024-01-08T23:52:55.711362",
     "status": "completed"
    },
    "tags": []
   },
   "outputs": [
    {
     "name": "stdout",
     "output_type": "stream",
     "text": [
      "Column 'Name': 891\n",
      "Column 'Sex': 2\n",
      "Column 'Ticket': 681\n",
      "Column 'Cabin': 147\n",
      "Column 'Embarked': 3\n"
     ]
    }
   ],
   "source": [
    "for column in data.select_dtypes(include='object').columns:\n",
    "    unique_values = data[column].nunique()\n",
    "    print(f\"Column '{column}': {unique_values}\")"
   ]
  },
  {
   "cell_type": "code",
   "execution_count": 4,
   "id": "bf6e14fa",
   "metadata": {
    "execution": {
     "iopub.execute_input": "2024-01-08T23:52:55.752506Z",
     "iopub.status.busy": "2024-01-08T23:52:55.752079Z",
     "iopub.status.idle": "2024-01-08T23:52:55.768047Z",
     "shell.execute_reply": "2024-01-08T23:52:55.767128Z"
    },
    "papermill": {
     "duration": 0.027092,
     "end_time": "2024-01-08T23:52:55.770482",
     "exception": false,
     "start_time": "2024-01-08T23:52:55.743390",
     "status": "completed"
    },
    "tags": []
   },
   "outputs": [],
   "source": [
    "y = data['Survived']\n",
    "X = data.drop(['Survived','PassengerId', \"Name\", \"Ticket\", \"Cabin\"], axis=1)\n",
    "\n",
    "X_train, X_test, y_train, y_test = train_test_split(X, y, train_size=0.8, test_size=0.2, random_state=0)\n",
    "\n"
   ]
  },
  {
   "cell_type": "code",
   "execution_count": 5,
   "id": "3ef0e2c2",
   "metadata": {
    "execution": {
     "iopub.execute_input": "2024-01-08T23:52:55.787261Z",
     "iopub.status.busy": "2024-01-08T23:52:55.786566Z",
     "iopub.status.idle": "2024-01-08T23:52:55.793342Z",
     "shell.execute_reply": "2024-01-08T23:52:55.791952Z"
    },
    "papermill": {
     "duration": 0.017462,
     "end_time": "2024-01-08T23:52:55.795514",
     "exception": false,
     "start_time": "2024-01-08T23:52:55.778052",
     "status": "completed"
    },
    "tags": []
   },
   "outputs": [
    {
     "name": "stdout",
     "output_type": "stream",
     "text": [
      "X_train shape: (712, 7)\n",
      "X_test shape: (179, 7)\n",
      "y_train shape: (712,)\n",
      "y_test shape: (179,)\n"
     ]
    }
   ],
   "source": [
    "print(\"X_train shape:\", X_train.shape)\n",
    "print(\"X_test shape:\", X_test.shape)\n",
    "print(\"y_train shape:\", y_train.shape)\n",
    "print(\"y_test shape:\", y_test.shape)"
   ]
  },
  {
   "cell_type": "code",
   "execution_count": 6,
   "id": "2d781f6c",
   "metadata": {
    "execution": {
     "iopub.execute_input": "2024-01-08T23:52:55.812068Z",
     "iopub.status.busy": "2024-01-08T23:52:55.811728Z",
     "iopub.status.idle": "2024-01-08T23:52:55.819994Z",
     "shell.execute_reply": "2024-01-08T23:52:55.818703Z"
    },
    "papermill": {
     "duration": 0.019159,
     "end_time": "2024-01-08T23:52:55.822231",
     "exception": false,
     "start_time": "2024-01-08T23:52:55.803072",
     "status": "completed"
    },
    "tags": []
   },
   "outputs": [
    {
     "name": "stdout",
     "output_type": "stream",
     "text": [
      "Pclass        0\n",
      "Sex           0\n",
      "Age         177\n",
      "SibSp         0\n",
      "Parch         0\n",
      "Fare          0\n",
      "Embarked      2\n",
      "dtype: int64\n"
     ]
    }
   ],
   "source": [
    "# Count missing values per column\n",
    "\n",
    "nan_count_per_category = X.isna().sum()\n",
    "\n",
    "print(nan_count_per_category)"
   ]
  },
  {
   "cell_type": "code",
   "execution_count": 7,
   "id": "86ecb49b",
   "metadata": {
    "execution": {
     "iopub.execute_input": "2024-01-08T23:52:55.839173Z",
     "iopub.status.busy": "2024-01-08T23:52:55.838829Z",
     "iopub.status.idle": "2024-01-08T23:52:55.845551Z",
     "shell.execute_reply": "2024-01-08T23:52:55.844488Z"
    },
    "papermill": {
     "duration": 0.018138,
     "end_time": "2024-01-08T23:52:55.847980",
     "exception": false,
     "start_time": "2024-01-08T23:52:55.829842",
     "status": "completed"
    },
    "tags": []
   },
   "outputs": [
    {
     "name": "stdout",
     "output_type": "stream",
     "text": [
      "Column 'Sex': 2\n",
      "Column 'Embarked': 3\n"
     ]
    }
   ],
   "source": [
    "# Count unique values for categorical columns\n",
    "\n",
    "for column in X_test.select_dtypes(include='object').columns:\n",
    "    unique_values = X_test[column].nunique()\n",
    "    print(f\"Column '{column}': {unique_values}\")"
   ]
  },
  {
   "cell_type": "code",
   "execution_count": 8,
   "id": "6d89b0f9",
   "metadata": {
    "execution": {
     "iopub.execute_input": "2024-01-08T23:52:55.865064Z",
     "iopub.status.busy": "2024-01-08T23:52:55.864662Z",
     "iopub.status.idle": "2024-01-08T23:52:55.871760Z",
     "shell.execute_reply": "2024-01-08T23:52:55.870830Z"
    },
    "papermill": {
     "duration": 0.018195,
     "end_time": "2024-01-08T23:52:55.873842",
     "exception": false,
     "start_time": "2024-01-08T23:52:55.855647",
     "status": "completed"
    },
    "tags": []
   },
   "outputs": [
    {
     "name": "stdout",
     "output_type": "stream",
     "text": [
      "Column 'Sex': ['male' 'female']\n",
      "Column 'Embarked': ['S' 'C' 'Q' nan]\n"
     ]
    }
   ],
   "source": [
    "for column in X.select_dtypes(include='object').columns:\n",
    "    unique_values = X[column].unique()\n",
    "    print(f\"Column '{column}': {unique_values}\")"
   ]
  },
  {
   "cell_type": "markdown",
   "id": "b89b9c22",
   "metadata": {
    "papermill": {
     "duration": 0.007468,
     "end_time": "2024-01-08T23:52:55.888888",
     "exception": false,
     "start_time": "2024-01-08T23:52:55.881420",
     "status": "completed"
    },
    "tags": []
   },
   "source": [
    "Imputing missing values"
   ]
  },
  {
   "cell_type": "code",
   "execution_count": 9,
   "id": "05451a6b",
   "metadata": {
    "execution": {
     "iopub.execute_input": "2024-01-08T23:52:55.906048Z",
     "iopub.status.busy": "2024-01-08T23:52:55.905630Z",
     "iopub.status.idle": "2024-01-08T23:52:55.942824Z",
     "shell.execute_reply": "2024-01-08T23:52:55.941264Z"
    },
    "papermill": {
     "duration": 0.048774,
     "end_time": "2024-01-08T23:52:55.945327",
     "exception": false,
     "start_time": "2024-01-08T23:52:55.896553",
     "status": "completed"
    },
    "tags": []
   },
   "outputs": [
    {
     "name": "stdout",
     "output_type": "stream",
     "text": [
      "     impute_category1__Age  impute_category1__Fare  onehot__Sex_male  \\\n",
      "0                29.745184                 15.2458               0.0   \n",
      "1                31.000000                 10.5000               1.0   \n",
      "2                31.000000                 37.0042               1.0   \n",
      "3                20.000000                  4.0125               1.0   \n",
      "4                21.000000                  7.2500               1.0   \n",
      "..                     ...                     ...               ...   \n",
      "707              39.000000                 83.1583               0.0   \n",
      "708              19.000000                  7.8542               0.0   \n",
      "709              29.745184                  7.7333               1.0   \n",
      "710              36.000000                 17.4000               0.0   \n",
      "711              60.000000                 39.0000               1.0   \n",
      "\n",
      "     onehot__Embarked_Q  onehot__Embarked_S  remainder__Pclass  \\\n",
      "0                   0.0                 0.0                3.0   \n",
      "1                   0.0                 1.0                2.0   \n",
      "2                   0.0                 0.0                2.0   \n",
      "3                   0.0                 0.0                3.0   \n",
      "4                   0.0                 1.0                3.0   \n",
      "..                  ...                 ...                ...   \n",
      "707                 0.0                 0.0                1.0   \n",
      "708                 0.0                 1.0                3.0   \n",
      "709                 1.0                 0.0                3.0   \n",
      "710                 0.0                 1.0                3.0   \n",
      "711                 0.0                 1.0                2.0   \n",
      "\n",
      "     remainder__SibSp  remainder__Parch  \n",
      "0                 0.0               2.0  \n",
      "1                 0.0               0.0  \n",
      "2                 1.0               1.0  \n",
      "3                 0.0               0.0  \n",
      "4                 0.0               0.0  \n",
      "..                ...               ...  \n",
      "707               1.0               1.0  \n",
      "708               1.0               0.0  \n",
      "709               0.0               0.0  \n",
      "710               1.0               0.0  \n",
      "711               1.0               1.0  \n",
      "\n",
      "[712 rows x 8 columns]\n"
     ]
    }
   ],
   "source": [
    "# Impute data and perform one hot encoding\n",
    "\n",
    "numerical_transformer = Pipeline(steps=[\n",
    "    ('imputer', SimpleImputer(strategy='mean'))])\n",
    "\n",
    "categorical_transformer= Pipeline(steps=[\n",
    "    ('imputer', SimpleImputer(strategy='most_frequent')),\n",
    "    ('onehot', OneHotEncoder(drop='first'))\n",
    "    \n",
    "])\n",
    "\n",
    "\n",
    "preprocessor = ColumnTransformer(\n",
    "    transformers=[\n",
    "        ('impute_category1', numerical_transformer, ['Age', 'Fare']),\n",
    "        ('onehot', categorical_transformer , ['Sex', 'Embarked'])\n",
    "    ],\n",
    "    remainder='passthrough'\n",
    ")\n",
    "\n",
    "X_train_transformed = preprocessor.fit_transform(X_train)\n",
    "\n",
    "print(pd.DataFrame(X_train_transformed, columns=preprocessor.get_feature_names_out(input_features=X.columns)))"
   ]
  },
  {
   "cell_type": "markdown",
   "id": "cca8f83d",
   "metadata": {
    "papermill": {
     "duration": 0.007861,
     "end_time": "2024-01-08T23:52:55.961732",
     "exception": false,
     "start_time": "2024-01-08T23:52:55.953871",
     "status": "completed"
    },
    "tags": []
   },
   "source": [
    "Fitting the model"
   ]
  },
  {
   "cell_type": "code",
   "execution_count": 10,
   "id": "ec52bdd4",
   "metadata": {
    "execution": {
     "iopub.execute_input": "2024-01-08T23:52:55.979433Z",
     "iopub.status.busy": "2024-01-08T23:52:55.979030Z",
     "iopub.status.idle": "2024-01-08T23:53:08.180723Z",
     "shell.execute_reply": "2024-01-08T23:53:08.179387Z"
    },
    "papermill": {
     "duration": 12.21345,
     "end_time": "2024-01-08T23:53:08.183062",
     "exception": false,
     "start_time": "2024-01-08T23:52:55.969612",
     "status": "completed"
    },
    "tags": []
   },
   "outputs": [
    {
     "name": "stdout",
     "output_type": "stream",
     "text": [
      "Best Hyperparameters: {'classifier__n_estimators': 50}\n"
     ]
    }
   ],
   "source": [
    "# Find the best n estimators \n",
    "from sklearn.model_selection import GridSearchCV\n",
    "\n",
    "pipeline = Pipeline([\n",
    "    ('classifier', RandomForestClassifier())\n",
    "])\n",
    "\n",
    "\n",
    "param_grid = {\n",
    "    'classifier__n_estimators': range(20, 201, 10)  # Range from 20 to 200 in steps of 10\n",
    "}\n",
    "\n",
    "# Create a GridSearch\n",
    "grid_search = GridSearchCV(pipeline, param_grid, cv=5, scoring='accuracy', n_jobs=-1)\n",
    "\n",
    "# Fit the grid search to the data\n",
    "grid_search.fit(X_train_transformed, y_train)\n",
    "\n",
    "# Print the best hyperparameters\n",
    "print(\"Best Hyperparameters:\", grid_search.best_params_)\n"
   ]
  },
  {
   "cell_type": "code",
   "execution_count": 11,
   "id": "c11186c9",
   "metadata": {
    "execution": {
     "iopub.execute_input": "2024-01-08T23:53:08.201926Z",
     "iopub.status.busy": "2024-01-08T23:53:08.201498Z",
     "iopub.status.idle": "2024-01-08T23:53:08.356527Z",
     "shell.execute_reply": "2024-01-08T23:53:08.355496Z"
    },
    "papermill": {
     "duration": 0.168023,
     "end_time": "2024-01-08T23:53:08.359336",
     "exception": false,
     "start_time": "2024-01-08T23:53:08.191313",
     "status": "completed"
    },
    "tags": []
   },
   "outputs": [],
   "source": [
    "# Fit the best model to the test set\n",
    "best_model = grid_search.best_estimator_\n",
    "\n",
    "best_model.fit(X_train_transformed, y_train)\n",
    "\n",
    "# Predict on the test data\n",
    "X_test_transformed = preprocessor.fit_transform(X_test)\n",
    "y_pred = best_model.predict(X_test_transformed)\n"
   ]
  },
  {
   "cell_type": "code",
   "execution_count": 12,
   "id": "2e3d1df2",
   "metadata": {
    "execution": {
     "iopub.execute_input": "2024-01-08T23:53:08.378257Z",
     "iopub.status.busy": "2024-01-08T23:53:08.377479Z",
     "iopub.status.idle": "2024-01-08T23:53:08.384422Z",
     "shell.execute_reply": "2024-01-08T23:53:08.383654Z"
    },
    "papermill": {
     "duration": 0.018836,
     "end_time": "2024-01-08T23:53:08.386646",
     "exception": false,
     "start_time": "2024-01-08T23:53:08.367810",
     "status": "completed"
    },
    "tags": []
   },
   "outputs": [
    {
     "name": "stdout",
     "output_type": "stream",
     "text": [
      "Accuracy: 0.8268156424581006\n"
     ]
    }
   ],
   "source": [
    "from sklearn.metrics import accuracy_score\n",
    "\n",
    "accuracy = accuracy_score(y_test, y_pred)\n",
    "print(\"Accuracy:\", accuracy)"
   ]
  },
  {
   "cell_type": "code",
   "execution_count": 13,
   "id": "1f842fa9",
   "metadata": {
    "execution": {
     "iopub.execute_input": "2024-01-08T23:53:08.405949Z",
     "iopub.status.busy": "2024-01-08T23:53:08.404923Z",
     "iopub.status.idle": "2024-01-08T23:53:08.424184Z",
     "shell.execute_reply": "2024-01-08T23:53:08.423168Z"
    },
    "papermill": {
     "duration": 0.031287,
     "end_time": "2024-01-08T23:53:08.426623",
     "exception": false,
     "start_time": "2024-01-08T23:53:08.395336",
     "status": "completed"
    },
    "tags": []
   },
   "outputs": [
    {
     "data": {
      "text/html": [
       "<div>\n",
       "<style scoped>\n",
       "    .dataframe tbody tr th:only-of-type {\n",
       "        vertical-align: middle;\n",
       "    }\n",
       "\n",
       "    .dataframe tbody tr th {\n",
       "        vertical-align: top;\n",
       "    }\n",
       "\n",
       "    .dataframe thead th {\n",
       "        text-align: right;\n",
       "    }\n",
       "</style>\n",
       "<table border=\"1\" class=\"dataframe\">\n",
       "  <thead>\n",
       "    <tr style=\"text-align: right;\">\n",
       "      <th></th>\n",
       "      <th>PassengerId</th>\n",
       "      <th>Pclass</th>\n",
       "      <th>Name</th>\n",
       "      <th>Sex</th>\n",
       "      <th>Age</th>\n",
       "      <th>SibSp</th>\n",
       "      <th>Parch</th>\n",
       "      <th>Ticket</th>\n",
       "      <th>Fare</th>\n",
       "      <th>Cabin</th>\n",
       "      <th>Embarked</th>\n",
       "    </tr>\n",
       "  </thead>\n",
       "  <tbody>\n",
       "    <tr>\n",
       "      <th>0</th>\n",
       "      <td>892</td>\n",
       "      <td>3</td>\n",
       "      <td>Kelly, Mr. James</td>\n",
       "      <td>male</td>\n",
       "      <td>34.5</td>\n",
       "      <td>0</td>\n",
       "      <td>0</td>\n",
       "      <td>330911</td>\n",
       "      <td>7.8292</td>\n",
       "      <td>NaN</td>\n",
       "      <td>Q</td>\n",
       "    </tr>\n",
       "    <tr>\n",
       "      <th>1</th>\n",
       "      <td>893</td>\n",
       "      <td>3</td>\n",
       "      <td>Wilkes, Mrs. James (Ellen Needs)</td>\n",
       "      <td>female</td>\n",
       "      <td>47.0</td>\n",
       "      <td>1</td>\n",
       "      <td>0</td>\n",
       "      <td>363272</td>\n",
       "      <td>7.0000</td>\n",
       "      <td>NaN</td>\n",
       "      <td>S</td>\n",
       "    </tr>\n",
       "    <tr>\n",
       "      <th>2</th>\n",
       "      <td>894</td>\n",
       "      <td>2</td>\n",
       "      <td>Myles, Mr. Thomas Francis</td>\n",
       "      <td>male</td>\n",
       "      <td>62.0</td>\n",
       "      <td>0</td>\n",
       "      <td>0</td>\n",
       "      <td>240276</td>\n",
       "      <td>9.6875</td>\n",
       "      <td>NaN</td>\n",
       "      <td>Q</td>\n",
       "    </tr>\n",
       "    <tr>\n",
       "      <th>3</th>\n",
       "      <td>895</td>\n",
       "      <td>3</td>\n",
       "      <td>Wirz, Mr. Albert</td>\n",
       "      <td>male</td>\n",
       "      <td>27.0</td>\n",
       "      <td>0</td>\n",
       "      <td>0</td>\n",
       "      <td>315154</td>\n",
       "      <td>8.6625</td>\n",
       "      <td>NaN</td>\n",
       "      <td>S</td>\n",
       "    </tr>\n",
       "    <tr>\n",
       "      <th>4</th>\n",
       "      <td>896</td>\n",
       "      <td>3</td>\n",
       "      <td>Hirvonen, Mrs. Alexander (Helga E Lindqvist)</td>\n",
       "      <td>female</td>\n",
       "      <td>22.0</td>\n",
       "      <td>1</td>\n",
       "      <td>1</td>\n",
       "      <td>3101298</td>\n",
       "      <td>12.2875</td>\n",
       "      <td>NaN</td>\n",
       "      <td>S</td>\n",
       "    </tr>\n",
       "  </tbody>\n",
       "</table>\n",
       "</div>"
      ],
      "text/plain": [
       "   PassengerId  Pclass                                          Name     Sex  \\\n",
       "0          892       3                              Kelly, Mr. James    male   \n",
       "1          893       3              Wilkes, Mrs. James (Ellen Needs)  female   \n",
       "2          894       2                     Myles, Mr. Thomas Francis    male   \n",
       "3          895       3                              Wirz, Mr. Albert    male   \n",
       "4          896       3  Hirvonen, Mrs. Alexander (Helga E Lindqvist)  female   \n",
       "\n",
       "    Age  SibSp  Parch   Ticket     Fare Cabin Embarked  \n",
       "0  34.5      0      0   330911   7.8292   NaN        Q  \n",
       "1  47.0      1      0   363272   7.0000   NaN        S  \n",
       "2  62.0      0      0   240276   9.6875   NaN        Q  \n",
       "3  27.0      0      0   315154   8.6625   NaN        S  \n",
       "4  22.0      1      1  3101298  12.2875   NaN        S  "
      ]
     },
     "execution_count": 13,
     "metadata": {},
     "output_type": "execute_result"
    }
   ],
   "source": [
    "test.head()"
   ]
  },
  {
   "cell_type": "code",
   "execution_count": 14,
   "id": "60b96bbe",
   "metadata": {
    "execution": {
     "iopub.execute_input": "2024-01-08T23:53:08.445765Z",
     "iopub.status.busy": "2024-01-08T23:53:08.445356Z",
     "iopub.status.idle": "2024-01-08T23:53:08.472429Z",
     "shell.execute_reply": "2024-01-08T23:53:08.471519Z"
    },
    "papermill": {
     "duration": 0.039788,
     "end_time": "2024-01-08T23:53:08.474948",
     "exception": false,
     "start_time": "2024-01-08T23:53:08.435160",
     "status": "completed"
    },
    "tags": []
   },
   "outputs": [],
   "source": [
    "test_id = test['PassengerId']\n",
    "\n",
    "x_valid = test.drop(['PassengerId', \"Name\", \"Ticket\", \"Cabin\"], axis=1)\n",
    "\n",
    "x_valid_transformed = preprocessor.fit_transform(x_valid)\n",
    "test_predictions = best_model.predict(x_valid_transformed)\n",
    "\n"
   ]
  },
  {
   "cell_type": "code",
   "execution_count": 15,
   "id": "8a4ef43d",
   "metadata": {
    "execution": {
     "iopub.execute_input": "2024-01-08T23:53:08.494268Z",
     "iopub.status.busy": "2024-01-08T23:53:08.493820Z",
     "iopub.status.idle": "2024-01-08T23:53:08.509382Z",
     "shell.execute_reply": "2024-01-08T23:53:08.508221Z"
    },
    "papermill": {
     "duration": 0.028186,
     "end_time": "2024-01-08T23:53:08.511869",
     "exception": false,
     "start_time": "2024-01-08T23:53:08.483683",
     "status": "completed"
    },
    "tags": []
   },
   "outputs": [
    {
     "name": "stdout",
     "output_type": "stream",
     "text": [
      "     impute_category1__Age  impute_category1__Fare  onehot__Sex_male  \\\n",
      "0                 34.50000                  7.8292               1.0   \n",
      "1                 47.00000                  7.0000               0.0   \n",
      "2                 62.00000                  9.6875               1.0   \n",
      "3                 27.00000                  8.6625               1.0   \n",
      "4                 22.00000                 12.2875               0.0   \n",
      "..                     ...                     ...               ...   \n",
      "413               30.27259                  8.0500               1.0   \n",
      "414               39.00000                108.9000               0.0   \n",
      "415               38.50000                  7.2500               1.0   \n",
      "416               30.27259                  8.0500               1.0   \n",
      "417               30.27259                 22.3583               1.0   \n",
      "\n",
      "     onehot__Embarked_Q  onehot__Embarked_S  remainder__Pclass  \\\n",
      "0                   1.0                 0.0                3.0   \n",
      "1                   0.0                 1.0                3.0   \n",
      "2                   1.0                 0.0                2.0   \n",
      "3                   0.0                 1.0                3.0   \n",
      "4                   0.0                 1.0                3.0   \n",
      "..                  ...                 ...                ...   \n",
      "413                 0.0                 1.0                3.0   \n",
      "414                 0.0                 0.0                1.0   \n",
      "415                 0.0                 1.0                3.0   \n",
      "416                 0.0                 1.0                3.0   \n",
      "417                 0.0                 0.0                3.0   \n",
      "\n",
      "     remainder__SibSp  remainder__Parch  \n",
      "0                 0.0               0.0  \n",
      "1                 1.0               0.0  \n",
      "2                 0.0               0.0  \n",
      "3                 0.0               0.0  \n",
      "4                 1.0               1.0  \n",
      "..                ...               ...  \n",
      "413               0.0               0.0  \n",
      "414               0.0               0.0  \n",
      "415               0.0               0.0  \n",
      "416               0.0               0.0  \n",
      "417               1.0               1.0  \n",
      "\n",
      "[418 rows x 8 columns]\n"
     ]
    }
   ],
   "source": [
    "print(pd.DataFrame(x_valid_transformed, columns=preprocessor.get_feature_names_out(input_features=X.columns)))"
   ]
  },
  {
   "cell_type": "markdown",
   "id": "c1d83f33",
   "metadata": {
    "papermill": {
     "duration": 0.008333,
     "end_time": "2024-01-08T23:53:08.529019",
     "exception": false,
     "start_time": "2024-01-08T23:53:08.520686",
     "status": "completed"
    },
    "tags": []
   },
   "source": [
    "Submitting results"
   ]
  },
  {
   "cell_type": "code",
   "execution_count": 16,
   "id": "659ec458",
   "metadata": {
    "execution": {
     "iopub.execute_input": "2024-01-08T23:53:08.548277Z",
     "iopub.status.busy": "2024-01-08T23:53:08.547872Z",
     "iopub.status.idle": "2024-01-08T23:53:08.553450Z",
     "shell.execute_reply": "2024-01-08T23:53:08.552368Z"
    },
    "papermill": {
     "duration": 0.017693,
     "end_time": "2024-01-08T23:53:08.555703",
     "exception": false,
     "start_time": "2024-01-08T23:53:08.538010",
     "status": "completed"
    },
    "tags": []
   },
   "outputs": [],
   "source": [
    "prediction_df = pd.DataFrame({'PassengerId': test_id, 'Survived': test_predictions})\n"
   ]
  },
  {
   "cell_type": "code",
   "execution_count": 17,
   "id": "0d8ab6a2",
   "metadata": {
    "execution": {
     "iopub.execute_input": "2024-01-08T23:53:08.574519Z",
     "iopub.status.busy": "2024-01-08T23:53:08.574136Z",
     "iopub.status.idle": "2024-01-08T23:53:08.583663Z",
     "shell.execute_reply": "2024-01-08T23:53:08.582634Z"
    },
    "papermill": {
     "duration": 0.021785,
     "end_time": "2024-01-08T23:53:08.586213",
     "exception": false,
     "start_time": "2024-01-08T23:53:08.564428",
     "status": "completed"
    },
    "tags": []
   },
   "outputs": [],
   "source": [
    "prediction_df.to_csv('submission.csv', index=False)"
   ]
  }
 ],
 "metadata": {
  "kaggle": {
   "accelerator": "none",
   "dataSources": [
    {
     "databundleVersionId": 26502,
     "sourceId": 3136,
     "sourceType": "competition"
    }
   ],
   "dockerImageVersionId": 30626,
   "isGpuEnabled": false,
   "isInternetEnabled": true,
   "language": "python",
   "sourceType": "notebook"
  },
  "kernelspec": {
   "display_name": "Python 3",
   "language": "python",
   "name": "python3"
  },
  "language_info": {
   "codemirror_mode": {
    "name": "ipython",
    "version": 3
   },
   "file_extension": ".py",
   "mimetype": "text/x-python",
   "name": "python",
   "nbconvert_exporter": "python",
   "pygments_lexer": "ipython3",
   "version": "3.10.12"
  },
  "papermill": {
   "default_parameters": {},
   "duration": 20.80674,
   "end_time": "2024-01-08T23:53:11.214653",
   "environment_variables": {},
   "exception": null,
   "input_path": "__notebook__.ipynb",
   "output_path": "__notebook__.ipynb",
   "parameters": {},
   "start_time": "2024-01-08T23:52:50.407913",
   "version": "2.4.0"
  }
 },
 "nbformat": 4,
 "nbformat_minor": 5
}
